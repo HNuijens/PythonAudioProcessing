{
 "cells": [
  {
   "cell_type": "markdown",
   "id": "4493d8ea",
   "metadata": {},
   "source": [
    "<h1 style = \"font-size:3rem;color:orange\">Extracting Frequency-Domain Audio Features</h1>"
   ]
  },
  {
   "cell_type": "code",
   "execution_count": 2,
   "id": "841983d6",
   "metadata": {},
   "outputs": [],
   "source": [
    "#import libraries\n",
    "import numpy as np\n",
    "import matplotlib.pyplot as plt\n",
    "import librosa                  \n",
    "import librosa.display \n",
    "import IPython.display as ipd\n",
    "import scipy"
   ]
  },
  {
   "cell_type": "code",
   "execution_count": 3,
   "id": "1b56693a",
   "metadata": {},
   "outputs": [],
   "source": [
    "# import audio to analyse\n",
    "data, sr = librosa.load('../samples/Trumpet.wav')"
   ]
  },
  {
   "cell_type": "markdown",
   "id": "eca08255",
   "metadata": {},
   "source": [
    "<h1 style = \"font-size:3rem;color:orange\">Band Energy Ratio</h1>"
   ]
  },
  {
   "cell_type": "markdown",
   "id": "b2a5c80f",
   "metadata": {},
   "source": [
    "BER can be used to compare energy in different frequency bands (e.g. speech / speech discrimination or music genre classification)\n",
    "\n",
    "\\begin{equation}\n",
    "    BER_t = \\frac{\\sum_{n=1}^{F-1}m_t(n)^2}{\\sum_{n=F}^{N}m_t(n)^2},\n",
    "\\end{equation}\n",
    "with split frequency $F$ (usually 2000 Hz)."
   ]
  },
  {
   "cell_type": "code",
   "execution_count": null,
   "id": "d534045d",
   "metadata": {},
   "outputs": [],
   "source": []
  }
 ],
 "metadata": {
  "kernelspec": {
   "display_name": "Python 3 (ipykernel)",
   "language": "python",
   "name": "python3"
  },
  "language_info": {
   "codemirror_mode": {
    "name": "ipython",
    "version": 3
   },
   "file_extension": ".py",
   "mimetype": "text/x-python",
   "name": "python",
   "nbconvert_exporter": "python",
   "pygments_lexer": "ipython3",
   "version": "3.9.12"
  }
 },
 "nbformat": 4,
 "nbformat_minor": 5
}
