{
 "cells": [
  {
   "cell_type": "markdown",
   "id": "be38cedf",
   "metadata": {},
   "source": [
    "<h1 style = \"font-size:3rem;color:orange\">Extracting Frequency-Domain Audio Features</h1>"
   ]
  },
  {
   "cell_type": "code",
   "execution_count": 2,
   "id": "8c4673fd",
   "metadata": {},
   "outputs": [],
   "source": [
    "#import libraries\n",
    "import numpy as np\n",
    "import matplotlib.pyplot as plt\n",
    "import librosa                  \n",
    "import librosa.display \n",
    "import IPython.display as ipd\n",
    "import scipy"
   ]
  },
  {
   "cell_type": "code",
   "execution_count": 3,
   "id": "51a8aded",
   "metadata": {},
   "outputs": [],
   "source": [
    "# import audio to analyse\n",
    "data, sr = librosa.load('../samples/Trumpet.wav')"
   ]
  },
  {
   "cell_type": "markdown",
   "id": "a1e347b6",
   "metadata": {},
   "source": [
    "<h1 style = \"font-size:3rem;color:orange\">Band Energy Ratio</h1>"
   ]
  },
  {
   "cell_type": "markdown",
   "id": "52906ead",
   "metadata": {},
   "source": [
    "BER can be used to compare energy in different frequency bands (e.g. speech / speech discrimination or music genre classification)\n",
    "\n",
    "\\begin{equation}\n",
    "    BER_t = \\frac{\\sum_{n=1}^{F-1}m_t(n)^2}{\\sum_{n=F}^{N}m_t(n)^2},\n",
    "\\end{equation}\n",
    "with split frequency $F$ (usually 2000 Hz)."
   ]
  },
  {
   "cell_type": "markdown",
   "id": "e5a4af3e",
   "metadata": {},
   "source": [
    "<h1 style = \"font-size:3rem;color:orange\">Spectral centroid</h1>"
   ]
  },
  {
   "cell_type": "markdown",
   "id": "f351c422",
   "metadata": {},
   "source": [
    "Center of gravity of magnitude spectrum, can be used to measure 'brightness' of sound\n",
    "\\begin{equation}\n",
    "    SC_t = \\frac{\\sum_{n=1}^{N}m_t(n) \\cdot n }{\\sum_{n=1}^{N}m_t(n)},\n",
    "\\end{equation}\n",
    "\n",
    "with frequency bin $n$ and frame $t$.\n"
   ]
  },
  {
   "cell_type": "markdown",
   "id": "961f7087",
   "metadata": {},
   "source": [
    "<h1 style = \"font-size:3rem;color:orange\">Band width</h1>"
   ]
  },
  {
   "cell_type": "markdown",
   "id": "f6e0957b",
   "metadata": {},
   "source": [
    "Weighted mean of the distances of frequency bands from spectral centroid\n",
    "\\begin{equation}\n",
    "    BW_t = \\frac{\\sum_{n=1}^{N} |n - SC_t | \\cdot m_t(n)}{\\sum_{n=1}^{N}m_t(n)},\n",
    "\\end{equation}\n",
    "\n",
    "with frequency bin $n$ and frame $t$."
   ]
  },
  {
   "cell_type": "code",
   "execution_count": null,
   "id": "47403c08",
   "metadata": {},
   "outputs": [],
   "source": []
  }
 ],
 "metadata": {
  "kernelspec": {
   "display_name": "Python 3 (ipykernel)",
   "language": "python",
   "name": "python3"
  },
  "language_info": {
   "codemirror_mode": {
    "name": "ipython",
    "version": 3
   },
   "file_extension": ".py",
   "mimetype": "text/x-python",
   "name": "python",
   "nbconvert_exporter": "python",
   "pygments_lexer": "ipython3",
   "version": "3.9.12"
  }
 },
 "nbformat": 4,
 "nbformat_minor": 5
}
